{
 "cells": [
  {
   "cell_type": "markdown",
   "id": "eab1c8ee-affc-494a-8f1f-8c09bf850b6d",
   "metadata": {},
   "source": [
    "This is a demonstration of how the datasets could be utilized to compute Residual Volatility (IVOL) factor ranks"
   ]
  },
  {
   "cell_type": "code",
   "execution_count": null,
   "id": "604ef1a8-ee3c-41c2-a951-4f18a226e92b",
   "metadata": {},
   "outputs": [],
   "source": [
    "%load_ext autoreload\n",
    "%autoreload 2\n",
    "\n",
    "import pandas as pd\n",
    "import os\n",
    "import re\n",
    "import json\n",
    "import requests\n",
    "\n",
    "directory = os.fsencode('../data')\n",
    "res_series = []\n",
    "beta_series = []\n",
    "\n",
    "for file in os.scandir(directory):\n",
    "    filename = os.fsdecode(file)\n",
    "    if filename.endswith('.json'):\n",
    "        try:\n",
    "            with open(filename) as f:\n",
    "                index = re.search('(?<=-).+(?= )', f.name).group()  # extract date\n",
    "                data = json.load(f)\n",
    "                # backwards compatiability for data sets that didn't have residuals calculated\n",
    "                if 'residuals' in data:\n",
    "                    res_json_series = pd.Series(data['residuals'])\n",
    "                    beta_json_series = pd.Series(data['values'])\n",
    "                    res_series.append(res_json_series.rename(index))\n",
    "                    beta_series.append(beta_json_series.rename(index))\n",
    "        except ValueError:\n",
    "            continue\n",
    "\n",
    "res_df = pd.DataFrame(res_series).sort_index()\n",
    "res_df.index = pd.to_datetime(res_df.index)\n",
    "betas_df = pd.DataFrame(beta_series).sort_index()\n",
    "betas_df.index = pd.to_datetime(betas_df.index)\n",
    "\n",
    "df_monthly = res_df.resample('ME').std() # convert to IVOL\n",
    "upper_ivols = df_monthly.apply(lambda x: x[x >= x.quantile(.8)], axis=1) # upper quintile IVOL\n",
    "bottom_ivols = df_monthly.apply(lambda x: x[x <= x.quantile(.25)], axis=1) # bottom quintile IVOL\n",
    "\n",
    "bottom_ivols"
   ]
  },
  {
   "cell_type": "markdown",
   "id": "0a90bef8-65ad-497c-9a7a-e7937774b012",
   "metadata": {},
   "source": [
    "Now I'll scrape CBOE weekly options CSV for tickers and intersect them with the top and bottom quartiles of the IVOL portfolio"
   ]
  },
  {
   "cell_type": "code",
   "execution_count": 2,
   "id": "f273d46d-eea0-42de-9d5a-17ecbaaeb075",
   "metadata": {},
   "outputs": [],
   "source": [
    "cboe_csv_link = 'https://www.cboe.com/available_weeklys/get_csv_download/'\n",
    "output = requests.get(cboe_csv_link).text\n",
    "\n",
    "find_str = \"Available Weeklys - Exchange Traded Products (ETFs and ETNs)\"\n",
    "\n",
    "idx = output.find(find_str)\n",
    "\n",
    "skiprows_val = output[:idx+len(find_str)].count(\"\\n\")\n",
    "\n",
    "\n",
    "cboe_csv = pd.read_csv(cboe_csv_link, skiprows=skiprows_val, usecols=[0], header=None)\n",
    "tickers_df = cboe_csv[(cboe_csv[0] != 'Available Weeklys - Exchange Traded Products (ETFs and ETNs)')\n",
    "                      & (cboe_csv[0] != 'Available Weeklys - Equity')]\n",
    "\n",
    "weekly_option_tickers = tickers_df[0]\n",
    "\n",
    "recent_upper_ivols = upper_ivols.iloc[-1]\n",
    "upper_ivol_tickers = recent_upper_ivols[recent_upper_ivols.notna()].index\n",
    "recent_bottom_ivols = bottom_ivols.iloc[-1]\n",
    "bottom_ivol_tickers = recent_bottom_ivols[recent_bottom_ivols.notna()].index\n",
    "\n",
    "optionable_upper_ivol_tickers = weekly_option_tickers[weekly_option_tickers.isin(upper_ivol_tickers)]\n",
    "optionable_bottom_ivol_tickers = weekly_option_tickers[weekly_option_tickers.isin(bottom_ivol_tickers)]"
   ]
  },
  {
   "cell_type": "markdown",
   "id": "d92278bf-9342-4e5b-9805-2215358884f2",
   "metadata": {},
   "source": [
    "Now, I want to intersect further with the lower quartile of the low beta portfolio from the recent month."
   ]
  },
  {
   "cell_type": "code",
   "execution_count": 4,
   "id": "9be45e8a-7d9e-4df2-9b8f-259f9c3441ef",
   "metadata": {},
   "outputs": [
    {
     "data": {
      "text/plain": [
       "110     ADP\n",
       "116    AGNC\n",
       "169     BMY\n",
       "171     BSX\n",
       "180     CAG\n",
       "181     CAH\n",
       "187    CBOE\n",
       "196    CHTR\n",
       "198      CI\n",
       "200      CL\n",
       "205     CLX\n",
       "216     CPB\n",
       "243      DG\n",
       "258    EBAY\n",
       "268     EPD\n",
       "270      ET\n",
       "284    FOXA\n",
       "291      GD\n",
       "298    GILD\n",
       "325     HRL\n",
       "353       K\n",
       "358     KMB\n",
       "371     LMT\n",
       "389     MCK\n",
       "391    MDLZ\n",
       "402      MO\n",
       "406     MRK\n",
       "428     NOC\n",
       "460     PEP\n",
       "462      PG\n",
       "469      PM\n",
       "493     RTX\n",
       "530     STZ\n",
       "534       T\n",
       "547     TMO\n",
       "567     UNH\n",
       "575       V\n",
       "596      WM\n",
       "598     WMT\n",
       "Name: 0, dtype: object"
      ]
     },
     "execution_count": 4,
     "metadata": {},
     "output_type": "execute_result"
    }
   ],
   "source": [
    "low_beta = betas_df.resample('ME').mean().apply(lambda x: x[x <= x.quantile(.25)], axis=1)\n",
    "recent_low_betas = low_beta.iloc[-1]\n",
    "low_beta_tickers = recent_low_betas[recent_low_betas.notna()].index\n",
    "optionable_bottom_ivol_tickers[optionable_bottom_ivol_tickers.isin(low_beta_tickers)]"
   ]
  },
  {
   "cell_type": "markdown",
   "id": "3ef23d20-2554-44a8-b3f1-71aa492d300b",
   "metadata": {},
   "source": [
    "These are all presumably safe stocks to long. I could create carry by short selling puts, trade their skew, or even make a dispersion trade by shorting options against the opposite leg."
   ]
  }
 ],
 "metadata": {
  "kernelspec": {
   "display_name": "Python 3 (ipykernel)",
   "language": "python",
   "name": "python3"
  },
  "language_info": {
   "codemirror_mode": {
    "name": "ipython",
    "version": 3
   },
   "file_extension": ".py",
   "mimetype": "text/x-python",
   "name": "python",
   "nbconvert_exporter": "python",
   "pygments_lexer": "ipython3",
   "version": "3.11.7"
  }
 },
 "nbformat": 4,
 "nbformat_minor": 5
}
