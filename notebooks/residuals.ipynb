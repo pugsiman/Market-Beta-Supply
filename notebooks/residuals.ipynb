{
 "cells": [
  {
   "cell_type": "code",
   "execution_count": null,
   "id": "89495158-18bb-4001-98e1-296dae9c0a37",
   "metadata": {},
   "outputs": [],
   "source": [
    "directory = os.fsencode('./data')\n",
    "series = []\n",
    "for file in os.scandir(directory):\n",
    "    filename = os.fsdecode(file)\n",
    "    if filename.endswith('.json'):\n",
    "        try:\n",
    "            with open(filename) as f:\n",
    "                index = re.search('(?<=-).+(?= )', f.name).group()  # extract date\n",
    "                data = json.load(f)\n",
    "                # backwards compatiability for data sets that didn't have residuals calculated\n",
    "                if 'values' in data:\n",
    "                    json_series = pd.Series(data['residuals'])\n",
    "                else:\n",
    "                    json_series = pd.Series(data)\n",
    "\n",
    "                series.append(json_series.rename(index))\n",
    "        except ValueError:\n",
    "            continue\n",
    "\n",
    "df = pd.DataFrame(series).sort_index().T\n",
    "df.index = pd.to_datetime(df.index)\n",
    "df_monthly = df.resample('M').std() # convert to IVOL\n",
    "df_monthly.apply(lambda x: x[x >= x.quantile(0.8)], axis=1) # highest IVOL\n",
    "\n",
    "\n"
   ]
  }
 ],
 "metadata": {
  "kernelspec": {
   "display_name": "Python 3 (ipykernel)",
   "language": "python",
   "name": "python3"
  },
  "language_info": {
   "codemirror_mode": {
    "name": "ipython",
    "version": 3
   },
   "file_extension": ".py",
   "mimetype": "text/x-python",
   "name": "python",
   "nbconvert_exporter": "python",
   "pygments_lexer": "ipython3",
   "version": "3.11.7"
  }
 },
 "nbformat": 4,
 "nbformat_minor": 5
}
